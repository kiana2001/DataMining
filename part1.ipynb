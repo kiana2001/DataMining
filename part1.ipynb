{
  "cells": [
    {
      "cell_type": "code",
      "execution_count": 1,
      "metadata": {
        "colab": {
          "base_uri": "https://localhost:8080/"
        },
        "id": "v4jK4JR_XYV5",
        "outputId": "25f65781-2542-4e89-cdba-0de070967bc7"
      },
      "outputs": [
        {
          "name": "stdout",
          "output_type": "stream",
          "text": [
            "Empty DataFrame\n",
            "Columns: [antecedents, consequents, antecedent support, consequent support, support, confidence, lift, leverage, conviction, zhangs_metric]\n",
            "Index: []\n"
          ]
        },
        {
          "name": "stderr",
          "output_type": "stream",
          "text": [
            "/usr/local/lib/python3.10/dist-packages/mlxtend/frequent_patterns/fpcommon.py:110: DeprecationWarning: DataFrames with non-bool types result in worse computationalperformance and their support might be discontinued in the future.Please use a DataFrame with bool type\n",
            "  warnings.warn(\n"
          ]
        }
      ],
      "source": [
        "import pandas as pd\n",
        "from mlxtend.frequent_patterns import apriori, association_rules\n",
        "\n",
        "# Load your dataset\n",
        "# Replace '/path/to/your/dataset.csv' with the actual path to your dataset\n",
        "dataset_path = '/content/heart_attack_prediction_dataset_cleaned.csv'\n",
        "df = pd.read_csv(dataset_path)\n",
        "\n",
        "# Assuming you have 'Systolic Pressure' and 'Diastolic Pressure' columns\n",
        "# Calculate mean blood pressure\n",
        "df['Blood Pressure'] = (df['Systolic Pressure'] + 2 * df['Diastolic Pressure']) / 3\n",
        "\n",
        "# Create a binary column for 'High Blood Pressure' based on a threshold\n",
        "threshold = 140  # You can adjust this threshold as needed\n",
        "df['High Blood Pressure'] = (df['Blood Pressure'] > threshold).astype(int)\n",
        "\n",
        "# Select relevant columns for association rule mining\n",
        "selected_columns = ['Family History', 'High Blood Pressure']\n",
        "\n",
        "# Create a binary DataFrame for association rule mining\n",
        "binary_df = df[selected_columns]\n",
        "\n",
        "# Apply Apriori algorithm\n",
        "frequent_itemsets = apriori(binary_df, min_support=0.1, use_colnames=True)\n",
        "\n",
        "# Generate association rules\n",
        "rules = association_rules(frequent_itemsets, metric='confidence', min_threshold=0.7)\n",
        "\n",
        "# Display the resulting association rules\n",
        "print(rules)\n"
      ]
    },
    {
      "cell_type": "markdown",
      "metadata": {
        "id": "S9DZFCw6pn-X"
      },
      "source": [
        "\n",
        "\n",
        "\n",
        ". **محاسبه میانگین فشار خون:**\n",
        "   \n",
        "   - میانگین فشار خون محاسبه شده و یک ستون جدید به نام 'فشار خون' به دیتافریم افزوده می‌شود.\n",
        "\n",
        ". **ایجاد ستون دودویی برای فشار خون بالا:**\n",
        "   - یک مقدار آستانه برای فشار خون بالا تعیین می‌شود (`threshold = 140`).\n",
        "   - یک ستون دودویی جدید به نام 'فشار خون بالا' بر اساس اینکه فشار خون محاسبه شده بالاتر از آستانه باشد یا خیر، ایجاد می‌شود.\n",
        "\n",
        ". **انتخاب ستون‌های مرتبط:**\n",
        "   - ستون‌های 'تاریخچه خانوادگی' و 'فشار خون بالا' برای انجام قوانین ارتباطی انتخاب می‌شوند.\n",
        "\n",
        ". **ایجاد دیتافریم دودویی:**\n",
        "   - یک دیتافریم جدید (`binary_df`) با شامل تنها ستون‌های انتخاب شده برای تحلیل ایجاد می‌شود.\n",
        "\n",
        ". **اعمال الگوریتم Apriori:**\n",
        "   - الگوریتم Apriori بر روی دیتافریم دودویی (`binary_df`) اجرا می‌شود تا مجموعه‌های آیتم متداول را پیدا کند.\n",
        "   - پارامتر `min_support=0.1` حداقل حمایت مورد نیاز برای یک مجموعه آیتم به عنوان متداول در نظر گرفته می‌شود.\n",
        "\n",
        ". **تولید قوانین ارتباطی:**\n",
        "   - قوانین ارتباطی از مجموعه‌های آیتم متداول با استفاده از تابع `association_rules` تولید می‌شوند.\n",
        "   - این قوانین بر اساس اطمینان ارزیابی می‌شوند، با تعیین حداقل اطمینان `0.7`.\n",
        "\n",
        ". **نمایش قوانین ارتباطی:**\n",
        "   - قوانین ارتباطی حاصل نمایش داده می‌شوند.\n",
        "\n",
        "در کل، این کد به پیش‌پردازش مجموعه داده مربوط به پیش‌بینی حمله قلب می‌پردازد، میانگین فشار خون را محاسبه می‌کند، نمایه دودویی فشار خون بالا را ایجاد می‌کند و سپس الگوریتم Apriori را برای کشف قوانین ارتباط بین 'تاریخچه خانوادگی' و 'فشار خون بالا' اعمال می‌کند. این قوانین ارتباط، برخی از الگوها یا روابط ممکن را در مجموعه داده که ممکن است برای پیش‌بینی حمله قلب مهم باشند، نشان می‌دهند. می‌توانید پارامترها را بر اساس ویژگی‌ها و اهداف خاص تجزیه و تحلیل خود تنظیم کنید."
      ]
    },
    {
      "cell_type": "code",
      "execution_count": 2,
      "metadata": {
        "colab": {
          "base_uri": "https://localhost:8080/"
        },
        "id": "iHRQ2_fiJ4-X",
        "outputId": "4945d162-9753-40ad-a906-3b882a6deb96"
      },
      "outputs": [
        {
          "name": "stderr",
          "output_type": "stream",
          "text": [
            "/usr/local/lib/python3.10/dist-packages/ipykernel/ipkernel.py:283: DeprecationWarning: `should_run_async` will not call `transform_cell` automatically in the future. Please pass the result to `transformed_cell` argument and any exception that happen during thetransform in `preprocessing_exc_tuple` in IPython 7.17 and above.\n",
            "  and should_run_async(code)\n"
          ]
        },
        {
          "name": "stdout",
          "output_type": "stream",
          "text": [
            "Mounted at /content/drive\n"
          ]
        }
      ],
      "source": [
        "from google.colab import drive\n",
        "drive.mount('/content/drive')"
      ]
    },
    {
      "cell_type": "code",
      "execution_count": 4,
      "metadata": {
        "colab": {
          "base_uri": "https://localhost:8080/"
        },
        "id": "VrK4WneoLMRX",
        "outputId": "00f11e8c-c0f3-42b7-a765-77c1ffd6bc33"
      },
      "outputs": [
        {
          "name": "stdout",
          "output_type": "stream",
          "text": [
            "             antecedents                  consequents  support  confidence  \\\n",
            "0  (Heart Attack Risk_1)  (Cholesterol_Category_High)  0.21055    0.587823   \n",
            "\n",
            "       lift  \n",
            "0  1.019032  \n"
          ]
        },
        {
          "name": "stderr",
          "output_type": "stream",
          "text": [
            "/usr/local/lib/python3.10/dist-packages/ipykernel/ipkernel.py:283: DeprecationWarning: `should_run_async` will not call `transform_cell` automatically in the future. Please pass the result to `transformed_cell` argument and any exception that happen during thetransform in `preprocessing_exc_tuple` in IPython 7.17 and above.\n",
            "  and should_run_async(code)\n",
            "/usr/local/lib/python3.10/dist-packages/mlxtend/frequent_patterns/fpcommon.py:110: DeprecationWarning: DataFrames with non-bool types result in worse computationalperformance and their support might be discontinued in the future.Please use a DataFrame with bool type\n",
            "  warnings.warn(\n"
          ]
        }
      ],
      "source": [
        "import pandas as pd\n",
        "from mlxtend.frequent_patterns import apriori, association_rules\n",
        "\n",
        "dataset_path = '/content/heart_attack_prediction_dataset_cleaned.csv'\n",
        "df = pd.read_csv(dataset_path)\n",
        "\n",
        "bins = [0, 199, 239, float('inf')]\n",
        "labels = ['Low', 'Medium', 'High']\n",
        "df['Cholesterol_Category'] = pd.cut(df['Cholesterol'], bins=bins, labels=labels, include_lowest=True)\n",
        "\n",
        "# Transform the DataFrame into a one-hot encoded format\n",
        "one_hot_encoded = pd.get_dummies(df, columns=['Cholesterol_Category', 'Heart Attack Risk'], drop_first=True)\n",
        "\n",
        "# Select the appropriate columns for one_hot_encoded_ch\n",
        "one_hot_encoded_ch = one_hot_encoded[['Cholesterol_Category_Medium', 'Cholesterol_Category_High', 'Heart Attack Risk_1']]\n",
        "\n",
        "frequent_itemsets = apriori(one_hot_encoded_ch, min_support=0.01, use_colnames=True)\n",
        "\n",
        "rules = association_rules(frequent_itemsets, metric='confidence', min_threshold=0.5)\n",
        "\n",
        "result_df = rules[['antecedents', 'consequents', 'support', 'confidence', 'lift']]\n",
        "print(result_df)\n"
      ]
    },
    {
      "cell_type": "markdown",
      "metadata": {
        "id": "KJ9GfB-ArPCI"
      },
      "source": [
        "\n",
        "\n",
        "```python\n",
        "# Import necessary libraries\n",
        "import pandas as pd\n",
        "from mlxtend.frequent_patterns import apriori, association_rules\n",
        "\n",
        "# Load the dataset\n",
        "dataset_path = '/content/heart_attack_prediction_dataset_cleaned.csv'\n",
        "df = pd.read_csv(dataset_path)\n",
        "```\n",
        "\n",
        "- **توضیح:**\n",
        "  - در این بخش، کتابخانه‌های مورد نیاز برای اجرای کد، یعنی Pandas و ماژول‌های مربوط به الگوریتم Apriori و تولید قوانین ارتباط وارد می‌شوند.\n",
        "  - سپس مجموعه داده مرتبط با پیش‌بینی حمله قلب از یک فایل CSV خوانده می‌شود.\n",
        "\n",
        "```python\n",
        "# Create bins for cholesterol levels and categorize them\n",
        "bins = [0, 199, 239, float('inf')]\n",
        "labels = ['Low', 'Medium', 'High']\n",
        "df['Cholesterol_Category'] = pd.cut(df['Cholesterol'], bins=bins, labels=labels, include_lowest=True)\n",
        "```\n",
        "\n",
        "- **توضیح:**\n",
        "  - این بخش، داده‌های مربوط به سطوح کلسترول را به سه دسته (پایین، متوسط و بالا) تقسیم می‌کند و در ستون جدیدی به نام 'Cholesterol_Category' ذخیره می‌کند.\n",
        "\n",
        "```python\n",
        "# Transform the DataFrame into a one-hot encoded format\n",
        "one_hot_encoded = pd.get_dummies(df, columns=['Cholesterol_Category', 'Heart Attack Risk'], drop_first=True)\n",
        "```\n",
        "\n",
        "- **توضیح:**\n",
        "  - این بخش، دیتافریم را به یک فرمت یک-هات (One-Hot Encoding) تبدیل می‌کند.\n",
        "  - ستون‌های 'Cholesterol_Category' و 'Heart Attack Risk' به فرمت یک-هات تبدیل می‌شوند و ستون‌های اصلی حذف می‌شوند.\n",
        "\n",
        "```python\n",
        "# Select the appropriate columns for association rule mining\n",
        "one_hot_encoded_ch = one_hot_encoded[['Cholesterol_Category_Medium', 'Cholesterol_Category_High', 'Heart Attack Risk_1']]\n",
        "```\n",
        "\n",
        "- **توضیح:**\n",
        "  - این بخش، ستون‌های مورد نیاز برای انجام کاوش قوانین ارتباط را انتخاب می‌کند.\n",
        "  - ستون‌های 'Cholesterol_Category_Medium'، 'Cholesterol_Category_High' و 'Heart Attack Risk_1' انتخاب می‌شوند.\n",
        "\n",
        "```python\n",
        "# Apply Apriori algorithm\n",
        "frequent_itemsets = apriori(one_hot_encoded_ch, min_support=0.01, use_colnames=True)\n",
        "```\n",
        "\n",
        "- **توضیح:**\n",
        "  - این بخش، الگوریتم Apriori را بر روی دیتافریم یک-هات اعمال کرده و مجموعه‌های آیتم متداول را پیدا می‌کند.\n",
        "  - پارامتر `min_support=0.01` حداقل حمایت مورد نیاز برای یک مجموعه آیتم به عنوان متداول در نظر گرفته می‌شود.\n",
        "\n",
        "```python\n",
        "# Generate association rules\n",
        "rules = association_rules(frequent_itemsets, metric='confidence', min_threshold=0.5)\n",
        "```\n",
        "\n",
        "- **توضیح:**\n",
        "  - این بخش، قوانین ارتباط را از مجموعه‌های آیتم متداول با استفاده از تابع `association_rules` تولید می‌کند.\n",
        "  - قوانین بر اساس اطمینان ارزیابی می‌شوند و حداقل اطمینان مورد نیاز به `0.5` تنظیم شده است.\n",
        "\n",
        "```python\n",
        "# Extract relevant information from the rules\n",
        "result_df = rules[['antecedents', 'consequents', 'support', 'confidence', 'lift']]\n",
        "```\n",
        "\n",
        "- **توضیح:**\n",
        "  - این بخش، اطلاعات مرتبط با قوانین تولید شده از قوانین ارتباط را استخراج می‌کند.\n",
        "  - اطلاعات مهم شامل \"پیش‌موندها\"، \"پس‌موندها\"، \"حمایت\"، \"اطمینان\" و \"لیفت\" می‌باشند.\n",
        "\n",
        "```python\n",
        "# Display the resulting association rules\n",
        "print(result_df)\n",
        "```\n",
        "\n",
        "- **توضیح:**\n",
        "  - در نهایت، این بخش، قوانین ارتباطی که استخراج شده‌اند را چاپ می‌کند و نتیجه را به کاربر نمایش می‌دهد."
      ]
    },
    {
      "cell_type": "code",
      "execution_count": null,
      "metadata": {
        "id": "W_hXu1qUrOp8"
      },
      "outputs": [],
      "source": []
    },
    {
      "cell_type": "code",
      "execution_count": 5,
      "metadata": {
        "colab": {
          "base_uri": "https://localhost:8080/"
        },
        "id": "9FMR2kBZTuFT",
        "outputId": "2aac24f4-c788-474c-892f-154263b56c2b"
      },
      "outputs": [
        {
          "name": "stdout",
          "output_type": "stream",
          "text": [
            "Empty DataFrame\n",
            "Columns: [antecedents, consequents, support, confidence, lift]\n",
            "Index: []\n"
          ]
        },
        {
          "name": "stderr",
          "output_type": "stream",
          "text": [
            "/usr/local/lib/python3.10/dist-packages/ipykernel/ipkernel.py:283: DeprecationWarning: `should_run_async` will not call `transform_cell` automatically in the future. Please pass the result to `transformed_cell` argument and any exception that happen during thetransform in `preprocessing_exc_tuple` in IPython 7.17 and above.\n",
            "  and should_run_async(code)\n",
            "/usr/local/lib/python3.10/dist-packages/mlxtend/frequent_patterns/fpcommon.py:110: DeprecationWarning: DataFrames with non-bool types result in worse computationalperformance and their support might be discontinued in the future.Please use a DataFrame with bool type\n",
            "  warnings.warn(\n"
          ]
        }
      ],
      "source": [
        "import pandas as pd\n",
        "from mlxtend.frequent_patterns import apriori, association_rules\n",
        "\n",
        "# Load your dataset\n",
        "dataset_path = '/content/heart_attack_prediction_dataset_cleaned.csv'\n",
        "df = pd.read_csv(dataset_path)\n",
        "\n",
        "# Assuming 'Family History' and 'Heart Attack Risk' are column names in your DataFrame\n",
        "one_hot_encoded = pd.get_dummies(df[['Family History', 'Heart Attack Risk']], prefix='', prefix_sep='')\n",
        "\n",
        "# Adjust min_support if needed\n",
        "min_support = 0.01\n",
        "frequent_itemsets = apriori(one_hot_encoded, min_support=min_support, use_colnames=True)\n",
        "\n",
        "# Generate association rules\n",
        "rules = association_rules(frequent_itemsets, metric='confidence', min_threshold=0.5)\n",
        "\n",
        "# Display results\n",
        "result_df = rules[['antecedents', 'consequents', 'support', 'confidence', 'lift']]\n",
        "print(result_df)\n"
      ]
    },
    {
      "cell_type": "markdown",
      "metadata": {
        "id": "K4UmkxGRsuhc"
      },
      "source": [
        "\n",
        "\n",
        "```python\n",
        "# Import necessary libraries\n",
        "import pandas as pd\n",
        "from mlxtend.frequent_patterns import apriori, association_rules\n",
        "\n",
        "# Load your dataset\n",
        "dataset_path = '/content/heart_attack_prediction_dataset_cleaned.csv'\n",
        "df = pd.read_csv(dataset_path)\n",
        "```\n",
        "- **توضیح:** ابتدا کتابخانه‌های مورد نیاز، pandas برای تیمار داده‌ها و mlxtend برای الگوریتم Apriori و تولید قوانین ارتباط وارد شده‌اند. سپس مجموعه داده مرتبط با پیش‌بینی حمله قلب از یک فایل CSV خوانده می‌شود.\n",
        "\n",
        "```python\n",
        "# Assuming 'Family History' and 'Heart Attack Risk' are column names in your DataFrame\n",
        "one_hot_encoded = pd.get_dummies(df[['Family History', 'Heart Attack Risk']], prefix='', prefix_sep='')\n",
        "```\n",
        "- **توضیح:** در این مرحله، ستون‌های 'Family History' و 'Heart Attack Risk' تبدیل به فرمت یک-هات شده‌اند. یعنی هر مقدار یک ستون به یک ستون جدید با نام تغییر یافته تبدیل می‌شود (one-hot encoding).\n",
        "\n",
        "```python\n",
        "# Adjust min_support if needed\n",
        "min_support = 0.01\n",
        "frequent_itemsets = apriori(one_hot_encoded, min_support=min_support, use_colnames=True)\n",
        "```\n",
        "- **توضیح:** اینجا الگوریتم Apriori بر روی دیتافریم یک-هات اعمال می‌شود. `min_support` حداقل حمایت مورد نیاز برای یک مجموعه آیتم به عنوان متداول در نظر گرفته می‌شود.\n",
        "\n",
        "```python\n",
        "# Generate association rules\n",
        "rules = association_rules(frequent_itemsets, metric='confidence', min_threshold=0.5)\n",
        "```\n",
        "- **توضیح:** در این مرحله، قوانین ارتباط با استفاده از مجموعه‌های آیتم متداول تولید می‌شوند. `metric='confidence'` نشان دهنده این است که ارتباط‌ها بر اساس اطمینان (confidence) ارزیابی می‌شوند و `min_threshold=0.5` حداقل اطمینان مورد نیاز برای نمایش یک قانون ارتباط را تعیین می‌کند.\n",
        "\n",
        "```python\n",
        "# Display results\n",
        "result_df = rules[['antecedents', 'consequents', 'support', 'confidence', 'lift']]\n",
        "print(result_df)\n",
        "```\n",
        "- **توضیح:** در نهایت، نتایج به صورت DataFrame نمایش داده می‌شود که شامل 'پیش‌موندها'، 'پس‌موندها'، 'حمایت'، 'اطمینان' و 'لیفت' می‌باشد.\n",
        "\n",
        "**مدل Apriori:**\n",
        "- الگوریتم Apriori یک الگوریتم کاوش قوانین ارتباط است که در داده‌های فراوان به دنبال الگوهای متداول یا آیتم‌های مشترک می‌گردد. این الگوریتم بر اساس مفهومی به نام \"خاصیت آپریوری\" عمل می‌کند که به آن امکان می‌دهد که اگر یک مجموعه آیتم متداول باشد، هر زیرمجموعه آن نیز متداول باشد.\n",
        "\n",
        "**قوانین ارتباط:**\n",
        "- قوانین ارتباط به عنوان نتیجه‌ای از اجرای الگوریتم Apriori حاصل می‌شوند. این قوانین شامل یک مجموعه از آیتم‌های ورودی (پیش‌موندها) و آیتم‌های خروجی (پس‌موندها) هستند که با یکدیگر در داده‌ها ارتباط دارند. معیارهایی مانند حمایت، اطمینان و لیفت نیز میزان قوت این قوانین را ارزیابی می‌کنند."
      ]
    },
    {
      "cell_type": "code",
      "execution_count": 7,
      "metadata": {
        "colab": {
          "base_uri": "https://localhost:8080/"
        },
        "id": "m783T9yYW6d4",
        "outputId": "dcaf63d0-b434-4e6e-f386-591162acd75e"
      },
      "outputs": [
        {
          "name": "stdout",
          "output_type": "stream",
          "text": [
            "           antecedents consequents   support  confidence      lift\n",
            "0  (Heart Attack Risk)   (Smoking)  0.320621    0.895123  0.998152\n"
          ]
        },
        {
          "name": "stderr",
          "output_type": "stream",
          "text": [
            "/usr/local/lib/python3.10/dist-packages/ipykernel/ipkernel.py:283: DeprecationWarning: `should_run_async` will not call `transform_cell` automatically in the future. Please pass the result to `transformed_cell` argument and any exception that happen during thetransform in `preprocessing_exc_tuple` in IPython 7.17 and above.\n",
            "  and should_run_async(code)\n",
            "/usr/local/lib/python3.10/dist-packages/mlxtend/frequent_patterns/fpcommon.py:110: DeprecationWarning: DataFrames with non-bool types result in worse computationalperformance and their support might be discontinued in the future.Please use a DataFrame with bool type\n",
            "  warnings.warn(\n"
          ]
        }
      ],
      "source": [
        "import pandas as pd\n",
        "from mlxtend.frequent_patterns import apriori, association_rules\n",
        "\n",
        "# Load your dataset\n",
        "dataset_path = '/content/heart_attack_prediction_dataset_cleaned.csv'\n",
        "df = pd.read_csv(dataset_path)\n",
        "\n",
        "# Assuming 'Smoking' and 'Heart Attack Risk' are column names in your DataFrame\n",
        "one_hot_encoded = pd.get_dummies(df[['Smoking', 'Heart Attack Risk']], prefix='', prefix_sep='')\n",
        "\n",
        "# Adjust min_support if needed\n",
        "min_support = 0.01\n",
        "frequent_itemsets = apriori(one_hot_encoded, min_support=min_support, use_colnames=True)\n",
        "\n",
        "# Generate association rules\n",
        "rules = association_rules(frequent_itemsets, metric='confidence', min_threshold=0.5)\n",
        "\n",
        "# Display results\n",
        "result_df = rules[['antecedents', 'consequents', 'support', 'confidence', 'lift']]\n",
        "print(result_df)\n"
      ]
    },
    {
      "cell_type": "code",
      "execution_count": 8,
      "metadata": {
        "colab": {
          "base_uri": "https://localhost:8080/"
        },
        "id": "LPg4rFp8mo0d",
        "outputId": "9e8dc657-7602-4987-bb0a-f9f0a934508f"
      },
      "outputs": [
        {
          "name": "stdout",
          "output_type": "stream",
          "text": [
            "Empty DataFrame\n",
            "Columns: [antecedents, consequents, support, confidence, lift]\n",
            "Index: []\n"
          ]
        },
        {
          "name": "stderr",
          "output_type": "stream",
          "text": [
            "/usr/local/lib/python3.10/dist-packages/ipykernel/ipkernel.py:283: DeprecationWarning: `should_run_async` will not call `transform_cell` automatically in the future. Please pass the result to `transformed_cell` argument and any exception that happen during thetransform in `preprocessing_exc_tuple` in IPython 7.17 and above.\n",
            "  and should_run_async(code)\n",
            "/usr/local/lib/python3.10/dist-packages/mlxtend/frequent_patterns/fpcommon.py:110: DeprecationWarning: DataFrames with non-bool types result in worse computationalperformance and their support might be discontinued in the future.Please use a DataFrame with bool type\n",
            "  warnings.warn(\n"
          ]
        }
      ],
      "source": [
        "import pandas as pd\n",
        "from mlxtend.frequent_patterns import apriori, association_rules\n",
        "\n",
        "# Load your dataset\n",
        "dataset_path = '/content/heart_attack_prediction_dataset_cleaned.csv'\n",
        "df = pd.read_csv(dataset_path)\n",
        "\n",
        "# Assuming 'Obesity' and 'Heart Attack Risk' are column names in your DataFrame\n",
        "one_hot_encoded = pd.get_dummies(df[['Obesity', 'Heart Attack Risk']], prefix='', prefix_sep='')\n",
        "\n",
        "# Adjust min_support if needed\n",
        "min_support = 0.01\n",
        "frequent_itemsets = apriori(one_hot_encoded, min_support=min_support, use_colnames=True)\n",
        "\n",
        "# Generate association rules\n",
        "rules = association_rules(frequent_itemsets, metric='confidence', min_threshold=0.5)\n",
        "\n",
        "# Display results\n",
        "result_df = rules[['antecedents', 'consequents', 'support', 'confidence', 'lift']]\n",
        "print(result_df)\n"
      ]
    },
    {
      "cell_type": "code",
      "execution_count": 9,
      "metadata": {
        "colab": {
          "base_uri": "https://localhost:8080/"
        },
        "id": "gJqPKg1cnCVV",
        "outputId": "3db4ff63-2305-49a8-e56f-737e1c3b3f31"
      },
      "outputs": [
        {
          "name": "stdout",
          "output_type": "stream",
          "text": [
            "Empty DataFrame\n",
            "Columns: [antecedents, consequents, support, confidence, lift]\n",
            "Index: []\n"
          ]
        },
        {
          "name": "stderr",
          "output_type": "stream",
          "text": [
            "/usr/local/lib/python3.10/dist-packages/ipykernel/ipkernel.py:283: DeprecationWarning: `should_run_async` will not call `transform_cell` automatically in the future. Please pass the result to `transformed_cell` argument and any exception that happen during thetransform in `preprocessing_exc_tuple` in IPython 7.17 and above.\n",
            "  and should_run_async(code)\n",
            "/usr/local/lib/python3.10/dist-packages/mlxtend/frequent_patterns/fpcommon.py:110: DeprecationWarning: DataFrames with non-bool types result in worse computationalperformance and their support might be discontinued in the future.Please use a DataFrame with bool type\n",
            "  warnings.warn(\n"
          ]
        }
      ],
      "source": [
        "import pandas as pd\n",
        "from mlxtend.frequent_patterns import apriori, association_rules\n",
        "\n",
        "# Load your dataset\n",
        "dataset_path = '/content/heart_attack_prediction_dataset_cleaned.csv'\n",
        "df = pd.read_csv(dataset_path)\n",
        "\n",
        "# Assuming 'Obesity' and 'Heart Attack Risk' are column names in your DataFrame\n",
        "one_hot_encoded = pd.get_dummies(df[['Obesity', 'Heart Attack Risk']], prefix='', prefix_sep='')\n",
        "\n",
        "# Adjust min_support if needed\n",
        "min_support = 0.01\n",
        "frequent_itemsets = apriori(one_hot_encoded, min_support=min_support, use_colnames=True)\n",
        "\n",
        "# Generate association rules\n",
        "rules = association_rules(frequent_itemsets, metric='confidence', min_threshold=0.5)\n",
        "\n",
        "# Display results\n",
        "result_df = rules[['antecedents', 'consequents', 'support', 'confidence', 'lift']]\n",
        "print(result_df)\n"
      ]
    },
    {
      "cell_type": "code",
      "execution_count": 10,
      "metadata": {
        "colab": {
          "base_uri": "https://localhost:8080/"
        },
        "id": "r-UccqRqnmP7",
        "outputId": "72b969ba-2d27-4002-8b41-ee0754189fc3"
      },
      "outputs": [
        {
          "name": "stdout",
          "output_type": "stream",
          "text": [
            "           antecedents            consequents   support  confidence      lift\n",
            "0  (Heart Attack Risk)  (Alcohol Consumption)  0.211007    0.589098  0.984979\n"
          ]
        },
        {
          "name": "stderr",
          "output_type": "stream",
          "text": [
            "/usr/local/lib/python3.10/dist-packages/ipykernel/ipkernel.py:283: DeprecationWarning: `should_run_async` will not call `transform_cell` automatically in the future. Please pass the result to `transformed_cell` argument and any exception that happen during thetransform in `preprocessing_exc_tuple` in IPython 7.17 and above.\n",
            "  and should_run_async(code)\n",
            "/usr/local/lib/python3.10/dist-packages/mlxtend/frequent_patterns/fpcommon.py:110: DeprecationWarning: DataFrames with non-bool types result in worse computationalperformance and their support might be discontinued in the future.Please use a DataFrame with bool type\n",
            "  warnings.warn(\n"
          ]
        }
      ],
      "source": [
        "import pandas as pd\n",
        "from mlxtend.frequent_patterns import apriori, association_rules\n",
        "\n",
        "# Load your dataset\n",
        "dataset_path = '/content/heart_attack_prediction_dataset_cleaned.csv'\n",
        "df = pd.read_csv(dataset_path)\n",
        "\n",
        "# Assuming 'Alcohol Consumption' and 'Heart Attack Risk' are column names in your DataFrame\n",
        "one_hot_encoded = pd.get_dummies(df[['Alcohol Consumption', 'Heart Attack Risk']], prefix='', prefix_sep='')\n",
        "\n",
        "# Adjust min_support if needed\n",
        "min_support = 0.01\n",
        "frequent_itemsets = apriori(one_hot_encoded, min_support=min_support, use_colnames=True)\n",
        "\n",
        "# Generate association rules\n",
        "rules = association_rules(frequent_itemsets, metric='confidence', min_threshold=0.5)\n",
        "\n",
        "# Display results\n",
        "result_df = rules[['antecedents', 'consequents', 'support', 'confidence', 'lift']]\n",
        "print(result_df)\n"
      ]
    },
    {
      "cell_type": "code",
      "execution_count": 12,
      "metadata": {
        "colab": {
          "base_uri": "https://localhost:8080/"
        },
        "id": "7egrcAZZpJww",
        "outputId": "93aaa94d-55f4-415b-9b49-e779998e9d19"
      },
      "outputs": [
        {
          "name": "stdout",
          "output_type": "stream",
          "text": [
            "Unique values in 'Exercise_Category': ['High', 'Medium', 'Low']\n",
            "Categories (3, object): ['Low' < 'Medium' < 'High']\n",
            "             antecedents               consequents   support  confidence  \\\n",
            "0  (Heart Attack Risk_1)  (Exercise_Category_High)  0.218771    0.610775   \n",
            "\n",
            "       lift  \n",
            "0  1.010229  \n"
          ]
        },
        {
          "name": "stderr",
          "output_type": "stream",
          "text": [
            "/usr/local/lib/python3.10/dist-packages/ipykernel/ipkernel.py:283: DeprecationWarning: `should_run_async` will not call `transform_cell` automatically in the future. Please pass the result to `transformed_cell` argument and any exception that happen during thetransform in `preprocessing_exc_tuple` in IPython 7.17 and above.\n",
            "  and should_run_async(code)\n",
            "/usr/local/lib/python3.10/dist-packages/mlxtend/frequent_patterns/fpcommon.py:110: DeprecationWarning: DataFrames with non-bool types result in worse computationalperformance and their support might be discontinued in the future.Please use a DataFrame with bool type\n",
            "  warnings.warn(\n"
          ]
        }
      ],
      "source": [
        "import pandas as pd\n",
        "from mlxtend.frequent_patterns import apriori, association_rules\n",
        "\n",
        "# Load your dataset\n",
        "dataset_path = '/content/heart_attack_prediction_dataset_cleaned.csv'\n",
        "df = pd.read_csv(dataset_path)\n",
        "\n",
        "# Define bins and labels for categorizing Exercise Hours\n",
        "exercise_bins = [0, 4, 8, float('inf')]\n",
        "exercise_labels = ['Low', 'Medium', 'High']\n",
        "\n",
        "# Create a new column 'Exercise_Category' based on Exercise Hours\n",
        "df['Exercise_Category'] = pd.cut(df['Exercise Hours Per Week'], bins=exercise_bins, labels=exercise_labels, include_lowest=True)\n",
        "\n",
        "# Display unique values in 'Exercise_Category'\n",
        "print(\"Unique values in 'Exercise_Category':\", df['Exercise_Category'].unique())\n",
        "\n",
        "# One-hot encode the categorical columns\n",
        "one_hot_encoded = pd.get_dummies(df, columns=['Exercise_Category', 'Heart Attack Risk'], drop_first=True)\n",
        "\n",
        "# Get the actual column names after one-hot encoding\n",
        "exercise_cols = [col for col in one_hot_encoded.columns if 'Exercise_Category' in col]\n",
        "\n",
        "# Select the appropriate columns for analysis\n",
        "one_hot_encoded_exercise = one_hot_encoded[exercise_cols + ['Heart Attack Risk_1']]\n",
        "\n",
        "# Apply Apriori algorithm\n",
        "frequent_itemsets = apriori(one_hot_encoded_exercise, min_support=0.01, use_colnames=True)\n",
        "\n",
        "# Generate association rules\n",
        "rules = association_rules(frequent_itemsets, metric='confidence', min_threshold=0.5)\n",
        "\n",
        "# Display results\n",
        "result_df = rules[['antecedents', 'consequents', 'support', 'confidence', 'lift']]\n",
        "print(result_df)\n"
      ]
    },
    {
      "cell_type": "markdown",
      "metadata": {
        "id": "MBpdSxZQtR1c"
      },
      "source": [
        "\n",
        "\n",
        "```python\n",
        "# دیتاست را بارگذاری کنید\n",
        "dataset_path = '/content/heart_attack_prediction_dataset_cleaned.csv'\n",
        "df = pd.read_csv(dataset_path)\n",
        "```\n",
        "- دیتاست پیش‌بینی حمله قلب از مسیر مشخص شده خوانده می‌شود.\n",
        "\n",
        "```python\n",
        "# بازه‌ها و برچسب‌ها را برای دسته‌بندی ساعت‌های ورزش تعریف کنید\n",
        "exercise_bins = [0, 4, 8, float('inf')]\n",
        "exercise_labels = ['Low', 'Medium', 'High']\n",
        "```\n",
        "- بازه‌ها و برچسب‌ها برای دسته‌بندی 'ساعت‌های ورزش هفتگی' به سه دسته: کم، متوسط و زیاد تعریف می‌شوند.\n",
        "\n",
        "```python\n",
        "# یک ستون جدید 'Exercise_Category' بر اساس ساعت‌های ورزش ایجاد کنید\n",
        "df['Exercise_Category'] = pd.cut(df['Exercise Hours Per Week'], bins=exercise_bins, labels=exercise_labels, include_lowest=True)\n",
        "```\n",
        "- یک ستون جدید دسته‌بندی‌شده به نام 'Exercise_Category' بر اساس بازه‌های تعریف شده برای 'ساعت‌های ورزش هفتگی' ایجاد می‌شود.\n",
        "\n",
        "```python\n",
        "# مقادیر یکتا در 'Exercise_Category' را نمایش دهید\n",
        "print(\"Unique values in 'Exercise_Category':\", df['Exercise_Category'].unique())\n",
        "```\n",
        "- مقادیر یکتا در ستون 'Exercise_Category' جدید را چاپ کنید.\n",
        "\n",
        "```python\n",
        "one_hot_encoded = pd.get_dummies(df, columns=['Exercise_Category', 'Heart Attack Risk'], drop_first=True)\n",
        "```\n",
        "\n",
        "```python\n",
        "# نام‌های ستون‌های واقعی پس از هات کد کردن را دریافت کنید\n",
        "exercise_cols = [col for col in one_hot_encoded.columns if 'Exercise_Category' in col]\n",
        "```\n",
        "- نام‌های ستون‌های مرتبط با 'Exercise_Category' را بعد از یک-هات کد کردن به دست می‌آورد.\n",
        "\n",
        "```python\n",
        "# ستون‌های مناسب برای تحلیل را انتخاب کنید\n",
        "one_hot_encoded_exercise = one_hot_encoded[exercise_cols + ['Heart Attack Risk_1']]\n",
        "```\n",
        "- ستون‌های مرتبط با تحلیل قوانین ارتباط را انتخاب می‌کند.\n",
        "\n",
        "```python\n",
        "# الگوریتم Apriori را اعمال کنید\n",
        "frequent_itemsets = apriori(one_hot_encoded_exercise, min_support=0.01, use_colnames=True)\n",
        "```\n",
        "- الگوریتم Apriori را بر روی دیتافریم یک-هات اعمال کرده و مجموعه‌های آیتم متداول را پیدا می‌کند.\n",
        "\n",
        "```python\n",
        "# قوانین ارتباط را تولید کنید\n",
        "rules = association_rules(frequent_itemsets, metric='confidence', min_threshold=0.5)\n",
        "```\n",
        "- قوانین ارتباط را بر اساس مجموعه‌های آیتم متداول تولید می‌کند و از اطمینان به عنوان معیار ارزیابی استفاده می‌کند.\n",
        "\n",
        "```python\n",
        "# نتایج را نمایش دهید\n",
        "result_df = rules[['antecedents', 'consequents', 'support', 'confidence', 'lift']]\n",
        "print(result_df)\n",
        "```\n",
        "- نتایج حاصل از قوانین ارتباط را نمایش می‌دهد که شامل پیش‌موندها، پس‌موندها، حمایت، اطمینان و لیفت می‌باشد."
      ]
    },
    {
      "cell_type": "code",
      "execution_count": 13,
      "metadata": {
        "colab": {
          "base_uri": "https://localhost:8080/"
        },
        "id": "_Bsz0OMWr8Z6",
        "outputId": "5413ed90-6559-4866-8bc6-5c27334dd789"
      },
      "outputs": [
        {
          "name": "stdout",
          "output_type": "stream",
          "text": [
            "Unique values in 'Systolic_Pressure_Category': ['140-160', '<120', '160-180', '130-140', '120-130']\n",
            "Categories (7, object): ['<120' < '120-130' < '130-140' < '140-160' < '160-180' < '180-200' < '>=200']\n",
            "Unique values in 'Diastolic_Pressure_Category': ['80-90', '90-100', '100-110', '<80']\n",
            "Categories (7, object): ['<80' < '80-90' < '90-100' < '100-110' < '110-120' < '120-130' < '>=130']\n",
            "Empty DataFrame\n",
            "Columns: [antecedents, consequents, support, confidence, lift]\n",
            "Index: []\n"
          ]
        },
        {
          "name": "stderr",
          "output_type": "stream",
          "text": [
            "/usr/local/lib/python3.10/dist-packages/ipykernel/ipkernel.py:283: DeprecationWarning: `should_run_async` will not call `transform_cell` automatically in the future. Please pass the result to `transformed_cell` argument and any exception that happen during thetransform in `preprocessing_exc_tuple` in IPython 7.17 and above.\n",
            "  and should_run_async(code)\n",
            "/usr/local/lib/python3.10/dist-packages/mlxtend/frequent_patterns/fpcommon.py:110: DeprecationWarning: DataFrames with non-bool types result in worse computationalperformance and their support might be discontinued in the future.Please use a DataFrame with bool type\n",
            "  warnings.warn(\n"
          ]
        }
      ],
      "source": [
        "import pandas as pd\n",
        "from mlxtend.frequent_patterns import apriori, association_rules\n",
        "\n",
        "# Load your dataset\n",
        "dataset_path = '/content/heart_attack_prediction_dataset_cleaned.csv'\n",
        "df = pd.read_csv(dataset_path)\n",
        "\n",
        "# Define bins and labels for categorizing Systolic Pressure\n",
        "systolic_bins = [0, 120, 130, 140, 160, 180, 200, float('inf')]\n",
        "systolic_labels = ['<120', '120-130', '130-140', '140-160', '160-180', '180-200', '>=200']\n",
        "\n",
        "# Define bins and labels for categorizing Diastolic Pressure\n",
        "diastolic_bins = [0, 80, 90, 100, 110, 120, 130, float('inf')]\n",
        "diastolic_labels = ['<80', '80-90', '90-100', '100-110', '110-120', '120-130', '>=130']\n",
        "\n",
        "# Create new columns 'Systolic_Pressure_Category' and 'Diastolic_Pressure_Category'\n",
        "df['Systolic_Pressure_Category'] = pd.cut(df['Systolic Pressure'], bins=systolic_bins, labels=systolic_labels, include_lowest=True)\n",
        "df['Diastolic_Pressure_Category'] = pd.cut(df['Diastolic Pressure'], bins=diastolic_bins, labels=diastolic_labels, include_lowest=True)\n",
        "\n",
        "# Display unique values in the new columns\n",
        "print(\"Unique values in 'Systolic_Pressure_Category':\", df['Systolic_Pressure_Category'].unique())\n",
        "print(\"Unique values in 'Diastolic_Pressure_Category':\", df['Diastolic_Pressure_Category'].unique())\n",
        "\n",
        "# One-hot encode the categorical columns\n",
        "one_hot_encoded = pd.get_dummies(df, columns=['Systolic_Pressure_Category', 'Diastolic_Pressure_Category', 'Heart Attack Risk'], drop_first=True)\n",
        "\n",
        "# Get the actual column names after one-hot encoding\n",
        "systolic_pressure_cols = [col for col in one_hot_encoded.columns if 'Systolic_Pressure_Category' in col]\n",
        "diastolic_pressure_cols = [col for col in one_hot_encoded.columns if 'Diastolic_Pressure_Category' in col]\n",
        "\n",
        "# Select the appropriate columns for analysis\n",
        "one_hot_encoded_pressure = one_hot_encoded[systolic_pressure_cols + diastolic_pressure_cols + ['Heart Attack Risk_1']]\n",
        "\n",
        "# Apply Apriori algorithm\n",
        "frequent_itemsets = apriori(one_hot_encoded_pressure, min_support=0.01, use_colnames=True)\n",
        "\n",
        "# Generate association rules\n",
        "rules = association_rules(frequent_itemsets, metric='confidence', min_threshold=0.5)\n",
        "\n",
        "# Display results\n",
        "result_df = rules[['antecedents', 'consequents', 'support', 'confidence', 'lift']]\n",
        "print(result_df)\n"
      ]
    },
    {
      "cell_type": "code",
      "execution_count": 14,
      "metadata": {
        "colab": {
          "base_uri": "https://localhost:8080/"
        },
        "id": "miadIBqgvML_",
        "outputId": "359fcea6-191d-4c11-850d-14949cb0a2f1"
      },
      "outputs": [
        {
          "name": "stdout",
          "output_type": "stream",
          "text": [
            "           antecedents consequents  support  confidence      lift\n",
            "0  (Heart Attack Risk)      (Male)   0.2504    0.699076  1.002539\n"
          ]
        },
        {
          "name": "stderr",
          "output_type": "stream",
          "text": [
            "/usr/local/lib/python3.10/dist-packages/ipykernel/ipkernel.py:283: DeprecationWarning: `should_run_async` will not call `transform_cell` automatically in the future. Please pass the result to `transformed_cell` argument and any exception that happen during thetransform in `preprocessing_exc_tuple` in IPython 7.17 and above.\n",
            "  and should_run_async(code)\n",
            "/usr/local/lib/python3.10/dist-packages/mlxtend/frequent_patterns/fpcommon.py:110: DeprecationWarning: DataFrames with non-bool types result in worse computationalperformance and their support might be discontinued in the future.Please use a DataFrame with bool type\n",
            "  warnings.warn(\n"
          ]
        }
      ],
      "source": [
        "import pandas as pd\n",
        "from mlxtend.frequent_patterns import apriori, association_rules\n",
        "\n",
        "# Load your dataset\n",
        "dataset_path = '/content/heart_attack_prediction_dataset_cleaned.csv'\n",
        "df = pd.read_csv(dataset_path)\n",
        "\n",
        "# Assuming 'Sex' and 'Heart Attack Risk' are column names in your DataFrame\n",
        "one_hot_encoded = pd.get_dummies(df[['Sex', 'Heart Attack Risk']], prefix='', prefix_sep='')\n",
        "\n",
        "# Adjust min_support if needed\n",
        "min_support = 0.01\n",
        "frequent_itemsets = apriori(one_hot_encoded, min_support=min_support, use_colnames=True)\n",
        "\n",
        "# Generate association rules\n",
        "rules = association_rules(frequent_itemsets, metric='confidence', min_threshold=0.5)\n",
        "\n",
        "# Display results\n",
        "result_df = rules[['antecedents', 'consequents', 'support', 'confidence', 'lift']]\n",
        "print(result_df)\n"
      ]
    },
    {
      "cell_type": "code",
      "execution_count": 15,
      "metadata": {
        "colab": {
          "base_uri": "https://localhost:8080/"
        },
        "id": "m0Ckfxp1vd0y",
        "outputId": "6b87de7d-4d8c-4a4d-9ea1-a19c359ae724"
      },
      "outputs": [
        {
          "name": "stdout",
          "output_type": "stream",
          "text": [
            "Empty DataFrame\n",
            "Columns: [antecedents, consequents, support, confidence, lift]\n",
            "Index: []\n"
          ]
        },
        {
          "name": "stderr",
          "output_type": "stream",
          "text": [
            "/usr/local/lib/python3.10/dist-packages/ipykernel/ipkernel.py:283: DeprecationWarning: `should_run_async` will not call `transform_cell` automatically in the future. Please pass the result to `transformed_cell` argument and any exception that happen during thetransform in `preprocessing_exc_tuple` in IPython 7.17 and above.\n",
            "  and should_run_async(code)\n",
            "/usr/local/lib/python3.10/dist-packages/mlxtend/frequent_patterns/fpcommon.py:110: DeprecationWarning: DataFrames with non-bool types result in worse computationalperformance and their support might be discontinued in the future.Please use a DataFrame with bool type\n",
            "  warnings.warn(\n"
          ]
        }
      ],
      "source": [
        "import pandas as pd\n",
        "from mlxtend.frequent_patterns import apriori, association_rules\n",
        "\n",
        "# Load your dataset\n",
        "dataset_path = '/content/heart_attack_prediction_dataset_cleaned.csv'\n",
        "df = pd.read_csv(dataset_path)\n",
        "\n",
        "# Assuming 'Age' and 'Heart Attack Risk' are column names in your DataFrame\n",
        "bins = [29, 39, 49, 59, 69, 79, 89, 99]\n",
        "labels = ['30-39', '40-49', '50-59', '60-69', '70-79', '80-89', '90-99']\n",
        "df['Age_Category'] = pd.cut(df['Age'], bins=bins, labels=labels, include_lowest=True)\n",
        "\n",
        "one_hot_encoded = pd.get_dummies(df[['Age_Category', 'Heart Attack Risk']], prefix='', prefix_sep='')\n",
        "\n",
        "# Adjust min_support if needed\n",
        "min_support = 0.01\n",
        "frequent_itemsets = apriori(one_hot_encoded, min_support=min_support, use_colnames=True)\n",
        "\n",
        "# Generate association rules\n",
        "rules = association_rules(frequent_itemsets, metric='confidence', min_threshold=0.5)\n",
        "\n",
        "# Display results\n",
        "result_df = rules[['antecedents', 'consequents', 'support', 'confidence', 'lift']]\n",
        "print(result_df)\n"
      ]
    }
  ],
  "metadata": {
    "colab": {
      "provenance": []
    },
    "kernelspec": {
      "display_name": "Python 3",
      "name": "python3"
    },
    "language_info": {
      "name": "python"
    }
  },
  "nbformat": 4,
  "nbformat_minor": 0
}
